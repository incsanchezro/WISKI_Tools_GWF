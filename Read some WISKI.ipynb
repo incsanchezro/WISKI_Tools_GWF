{
 "cells": [
  {
   "cell_type": "code",
   "execution_count": null,
   "metadata": {},
   "outputs": [],
   "source": [
    "from matplotlib import pyplot as pl\n",
    "import WiskiTools as wt\n",
    "import numpy as np"
   ]
  },
  {
   "cell_type": "code",
   "execution_count": null,
   "metadata": {},
   "outputs": [],
   "source": [
    "# Search for a station, and output station names:\n",
    "MyList=wt.searchStation('SDN')"
   ]
  },
  {
   "cell_type": "code",
   "execution_count": null,
   "metadata": {},
   "outputs": [],
   "source": [
    "# Select one station from the list, by number:\n",
    "station_name=MyList[5]\n",
    "print(station_name)"
   ]
  },
  {
   "cell_type": "code",
   "execution_count": null,
   "metadata": {},
   "outputs": [],
   "source": [
    "# List all time series associated with this station:\n",
    "MyTS=wt.searchTimeseries('',station_name)"
   ]
  },
  {
   "cell_type": "code",
   "execution_count": null,
   "metadata": {},
   "outputs": [],
   "source": [
    "# Select one or more times series, by index\n",
    "indexes=np.arange(10,11)\n",
    "print(indexes)\n",
    "\n",
    "# Select a data range to work with:\n",
    "Start='2001-08-01 00:00:00'\n",
    "End='2018-02-08 00:00:00'\n",
    "\n",
    "# Extract data into a pandas dataframe:\n",
    "TS_Selection=MyTS[indexes]\n",
    "df = wt.getTimeseries(TS_Selection,station_name,Start,End)"
   ]
  },
  {
   "cell_type": "code",
   "execution_count": null,
   "metadata": {
    "scrolled": false
   },
   "outputs": [],
   "source": [
    "# Plot all the data in your dataframe on individual axes\n",
    "for i in range(df.columns.size):\n",
    "    df.plot(y=df.columns[i])\n",
    "    \n",
    "pl.show()"
   ]
  },
  {
   "cell_type": "code",
   "execution_count": null,
   "metadata": {},
   "outputs": [],
   "source": []
  }
 ],
 "metadata": {
  "kernelspec": {
   "display_name": "Python 3",
   "language": "python",
   "name": "python3"
  },
  "language_info": {
   "codemirror_mode": {
    "name": "ipython",
    "version": 3
   },
   "file_extension": ".py",
   "mimetype": "text/x-python",
   "name": "python",
   "nbconvert_exporter": "python",
   "pygments_lexer": "ipython3",
   "version": "3.7.3"
  }
 },
 "nbformat": 4,
 "nbformat_minor": 1
}
